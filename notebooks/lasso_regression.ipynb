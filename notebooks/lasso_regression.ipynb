{
 "cells": [
  {
   "cell_type": "markdown",
   "metadata": {},
   "source": [
    "# Simple Regression Models\n",
    "\n",
    "Uses the cleaned data files:\n",
    "\n",
    "1. '../data/crosscheck_daily_data_cleaned_w_sameday.csv'\n",
    "2. '../data/studentlife_daily_data_cleaned_w_sameday_03192020.csv'\n",
    "\n",
    "to run lasso regression with the hyperparameter $\\lambda=0.1$. The $\\lambda=0.1$ was determined through experimentation on the source (CrossCheck) data.\n",
    "\n",
    "Requires the following code files in the repo:\n",
    "\n",
    "1. '../src/util.py'\n",
    "2. '.../src/regression_cv.py'"
   ]
  },
  {
   "cell_type": "code",
   "execution_count": 519,
   "metadata": {},
   "outputs": [],
   "source": [
    "import pandas as pd\n",
    "import numpy as np\n",
    "from sklearn.preprocessing import StandardScaler\n",
    "from importlib import reload\n",
    "import sys\n",
    "from matplotlib.patches import Patch\n",
    "import pingouin as pg"
   ]
  },
  {
   "cell_type": "code",
   "execution_count": 2,
   "metadata": {},
   "outputs": [],
   "source": [
    "sys.path.insert(0, '../code/')"
   ]
  },
  {
   "cell_type": "code",
   "execution_count": 3,
   "metadata": {},
   "outputs": [],
   "source": [
    "import util\n",
    "import regression_cv"
   ]
  },
  {
   "cell_type": "code",
   "execution_count": 4,
   "metadata": {},
   "outputs": [],
   "source": [
    "palette = sns.color_palette('tab10')[0:2]"
   ]
  },
  {
   "cell_type": "markdown",
   "metadata": {},
   "source": [
    "### Open Data"
   ]
  },
  {
   "cell_type": "code",
   "execution_count": 5,
   "metadata": {},
   "outputs": [],
   "source": [
    "crosscheck = pd.read_csv('../data/crosscheck_daily_data_cleaned_w_sameday.csv', index_col=0)"
   ]
  },
  {
   "cell_type": "code",
   "execution_count": 6,
   "metadata": {},
   "outputs": [],
   "source": [
    "studentlife = pd.read_csv('../data/studentlife_daily_data_cleaned_w_sameday_03192020.csv')"
   ]
  },
  {
   "cell_type": "markdown",
   "metadata": {},
   "source": [
    "## Prep for models"
   ]
  },
  {
   "cell_type": "markdown",
   "metadata": {},
   "source": [
    "### Get features"
   ]
  },
  {
   "cell_type": "code",
   "execution_count": 7,
   "metadata": {},
   "outputs": [],
   "source": [
    "# EMA cols\n",
    "ema_cols_crosscheck = [i for i in crosscheck.columns if 'ema' in i]\n",
    "ema_cols_studentlife = [i for i in studentlife.columns if 'ema' in i]"
   ]
  },
  {
   "cell_type": "code",
   "execution_count": 8,
   "metadata": {},
   "outputs": [],
   "source": [
    "# Behavior cols\n",
    "behavior_cols_crosscheck = [\n",
    "    i for i in crosscheck.columns if i not in ['study_id', 'eureka_id', 'date'] + ema_cols_crosscheck\n",
    "]\n",
    "\n",
    "behavior_cols_studentlife = [\n",
    "    i for i in studentlife.columns if i not in ['study_id', 'eureka_id', 'day'] + ema_cols_studentlife\n",
    "]\n",
    "\n",
    "behavior_cols = list(set(behavior_cols_crosscheck) & set(behavior_cols_studentlife))\n",
    "behavior_cols.sort()"
   ]
  },
  {
   "cell_type": "code",
   "execution_count": 9,
   "metadata": {},
   "outputs": [],
   "source": [
    "features = behavior_cols[:]"
   ]
  },
  {
   "cell_type": "markdown",
   "metadata": {},
   "source": [
    "### Clean for model training"
   ]
  },
  {
   "cell_type": "code",
   "execution_count": 10,
   "metadata": {},
   "outputs": [],
   "source": [
    "crosscheck_temp = crosscheck.copy()\n",
    "crosscheck_temp[behavior_cols] = crosscheck_temp[behavior_cols].fillna(0) # Not using the columns with NAs. All \n",
    "                                                                          # ambient audio/light\n",
    "\n",
    "features = [f for f in features if len(crosscheck_temp[f].unique()) > 1]"
   ]
  },
  {
   "cell_type": "markdown",
   "metadata": {},
   "source": [
    "#### Transform StudentLife EMA to look like CrossCheck"
   ]
  },
  {
   "cell_type": "code",
   "execution_count": 11,
   "metadata": {},
   "outputs": [],
   "source": [
    "studentlife_temp = studentlife[['study_id', 'day'] + \n",
    "    behavior_cols + ['ema_Stress_level', 'ema_Sleep_rate', 'ema_Behavior_calm', 'ema_Mood_sad', 'ema_Mood_sadornot']\n",
    "].reset_index(drop=True).copy() # TEMP FILL\n",
    "\n",
    "# Fill NA\n",
    "non_sleep_loc_cols = [i for i in behavior_cols if ('loc' not in i) and ('sleep' not in i)]\n",
    "studentlife_temp[non_sleep_loc_cols] = studentlife_temp[non_sleep_loc_cols].fillna(0)\n",
    "\n",
    "# Fill sleep with average value for that individual\n",
    "for s in studentlife_temp.study_id.unique():\n",
    "    temp = studentlife_temp.loc[studentlife_temp.study_id == s, :]\n",
    "    duration_mean = temp['sleep_duration'].mean()\n",
    "    start_mean = temp['sleep_start'].mean()\n",
    "    end_mean = temp['sleep_end'].mean()\n",
    "    ind = (studentlife_temp.study_id == s) & pd.isnull(studentlife_temp['sleep_duration'])\n",
    "    studentlife_temp.loc[ind, 'sleep_duration'] = duration_mean\n",
    "    studentlife_temp.loc[ind, 'sleep_start'] = start_mean\n",
    "    studentlife_temp.loc[ind, 'sleep_end'] = end_mean\n",
    "\n",
    "# Drop days without location (14 total) and days still w/o sleep (all IDs with no sleep info)\n",
    "studentlife_temp = studentlife_temp.dropna(subset=behavior_cols).reset_index()"
   ]
  },
  {
   "cell_type": "code",
   "execution_count": 12,
   "metadata": {},
   "outputs": [],
   "source": [
    "# Need to map all of them from 0-3\n",
    "\n",
    "# Stress [1]A little stressed, [2]Definitely stressed, [3]Stressed out, [4]Feeling good, [5]Feeling great, \n",
    "studentlife_temp['ema_STRESSED'] = studentlife_temp['ema_Stress_level'].map({\n",
    "    5:0, 4:1, 1:2, 2:3, 3:4\n",
    "})\n",
    "# Map from 0 - 3\n",
    "minimum = studentlife_temp['ema_STRESSED'].min()\n",
    "maximum = studentlife_temp['ema_STRESSED'].max()\n",
    "studentlife_temp['ema_STRESSED'] =  3 * (studentlife_temp['ema_STRESSED'] - minimum) / (maximum - minimum)\n",
    "\n",
    "# Sleeping [1]Very good, [2]Fairly good, [3]Fairly bad, [4]Very bad, \n",
    "# Map from 0 - 3\n",
    "studentlife_temp['ema_SLEEPING'] = 4 - studentlife_temp['ema_Sleep_rate'].copy()"
   ]
  },
  {
   "cell_type": "code",
   "execution_count": 16,
   "metadata": {},
   "outputs": [],
   "source": [
    "targets = ['ema_SLEEPING', 'ema_STRESSED']\n",
    "studentlife_temp['data'] = 'sl'\n",
    "crosscheck_temp['data']= 'cc'"
   ]
  },
  {
   "cell_type": "markdown",
   "metadata": {},
   "source": [
    "### Base models CV"
   ]
  },
  {
   "cell_type": "code",
   "execution_count": 17,
   "metadata": {},
   "outputs": [
    {
     "data": {
      "text/plain": [
       "<module 'regression_cv' from '../code/regression_cv.py'>"
      ]
     },
     "execution_count": 17,
     "metadata": {},
     "output_type": "execute_result"
    }
   ],
   "source": [
    "reload(regression_cv)"
   ]
  },
  {
   "cell_type": "code",
   "execution_count": 18,
   "metadata": {},
   "outputs": [],
   "source": [
    "from sklearn.ensemble import RandomForestRegressor, GradientBoostingRegressor\n",
    "from sklearn.linear_model import  LinearRegression, Ridge, Lasso\n",
    "from sklearn.svm import SVC\n",
    "from sklearn.metrics import r2_score, mean_absolute_error, mean_squared_error"
   ]
  },
  {
   "cell_type": "code",
   "execution_count": 20,
   "metadata": {},
   "outputs": [],
   "source": [
    "from multiprocessing import Pool, cpu_count"
   ]
  },
  {
   "cell_type": "code",
   "execution_count": 21,
   "metadata": {},
   "outputs": [],
   "source": [
    "crosscheck_temp['data'] = 'cc'\n",
    "crosscheck_temp['day'] = pd.to_datetime(crosscheck_temp['date']).dt.tz_localize('US/Eastern')\n",
    "studentlife_temp['data'] = 'sl'"
   ]
  },
  {
   "cell_type": "code",
   "execution_count": 22,
   "metadata": {},
   "outputs": [],
   "source": [
    "import warnings\n",
    "warnings.filterwarnings(\"ignore\")"
   ]
  },
  {
   "cell_type": "code",
   "execution_count": 23,
   "metadata": {},
   "outputs": [
    {
     "data": {
      "text/plain": [
       "<module 'regression_cv' from '../code/regression_cv.py'>"
      ]
     },
     "execution_count": 23,
     "metadata": {},
     "output_type": "execute_result"
    }
   ],
   "source": [
    "reload(regression_cv)"
   ]
  },
  {
   "cell_type": "markdown",
   "metadata": {},
   "source": [
    "#### Histplot"
   ]
  },
  {
   "cell_type": "markdown",
   "metadata": {},
   "source": [
    "## LOSO entire population"
   ]
  },
  {
   "cell_type": "code",
   "execution_count": null,
   "metadata": {},
   "outputs": [],
   "source": [
    "# By study ID\n",
    "args = []\n",
    "\n",
    "# models_list = ['lr', 'ridge', 'lasso', 'rf', 'gbt', 'sv']\n",
    "models_list = ['lasso']\n",
    "\n",
    "for data in ['sl', 'cc', 'both']:\n",
    "    for target in targets:\n",
    "        for m in models_list:\n",
    "            if data == 'sl':\n",
    "                train = None\n",
    "            else:\n",
    "                train = crosscheck_temp.copy()\n",
    "            args.append(\n",
    "                (train, studentlife_temp, data, features, [target], 'day', {'lasso': {'alpha': [0.1]}}, \\\n",
    "                [m], 5, False)\n",
    "            )"
   ]
  },
  {
   "cell_type": "code",
   "execution_count": null,
   "metadata": {},
   "outputs": [],
   "source": [
    "reload(regression_cv)"
   ]
  },
  {
   "cell_type": "code",
   "execution_count": null,
   "metadata": {
    "scrolled": true
   },
   "outputs": [],
   "source": [
    "pool = Pool(cpu_count())\n",
    "loso_res_dfs = pool.map(regression_cv.run_cv, args)\n",
    "pool.close()"
   ]
  },
  {
   "cell_type": "code",
   "execution_count": null,
   "metadata": {},
   "outputs": [],
   "source": [
    "loso_res_df = pd.concat(loso_res_dfs).reset_index(drop=True)"
   ]
  },
  {
   "cell_type": "code",
   "execution_count": 319,
   "metadata": {},
   "outputs": [],
   "source": [
    "y_true_cc = []\n",
    "y_pred_cc = []\n",
    "study_id_cc = []\n",
    "target_cc = []\n",
    "model_type_cc = []\n",
    "params_cc = []\n",
    "\n",
    "y_true_sl = []\n",
    "y_pred_sl = []\n",
    "study_id_sl = []\n",
    "target_sl = []\n",
    "model_type_sl = []\n",
    "params_sl = []\n",
    "\n",
    "y_true_both = []\n",
    "y_pred_both = []\n",
    "study_id_both = []\n",
    "target_both = []\n",
    "target_both = []\n",
    "model_type_both = []\n",
    "params_both = []\n",
    "\n",
    "for ind in loso_res_df.index:\n",
    "    if loso_res_df.loc[ind, 'data'] == 'cc':\n",
    "        y_true_cc += eval(loso_res_df.loc[ind, 'y_true'])\n",
    "        y_pred_cc += eval(loso_res_df.loc[ind, 'y_pred'])\n",
    "        study_id_cc += [loso_res_df.loc[ind, 'fold']] \\\n",
    "            * len(eval(loso_res_df.loc[ind, 'y_true']))\n",
    "        target_cc += [loso_res_df.loc[ind, 'target']] \\\n",
    "            * len(eval(loso_res_df.loc[ind, 'y_true']))\n",
    "        model_type_cc += [loso_res_df.loc[ind, 'model_type']] \\\n",
    "            * len(eval(loso_res_df.loc[ind, 'y_true']))\n",
    "        params_cc += [loso_res_df.loc[ind, 'params']] \\\n",
    "            * len(eval(loso_res_df.loc[ind, 'y_true']))\n",
    "    elif loso_res_df.loc[ind, 'data'] == 'sl':\n",
    "        y_true_sl += eval(loso_res_df.loc[ind, 'y_true'])\n",
    "        y_pred_sl += eval(loso_res_df.loc[ind, 'y_pred'])\n",
    "        study_id_sl += [loso_res_df.loc[ind, 'fold']] \\\n",
    "            * len(eval(loso_res_df.loc[ind, 'y_true']))\n",
    "        target_sl += [loso_res_df.loc[ind, 'target']] \\\n",
    "            * len(eval(loso_res_df.loc[ind, 'y_true']))\n",
    "        model_type_sl += [loso_res_df.loc[ind, 'model_type']] \\\n",
    "            * len(eval(loso_res_df.loc[ind, 'y_true']))\n",
    "        params_sl += [loso_res_df.loc[ind, 'params']] \\\n",
    "            * len(eval(loso_res_df.loc[ind, 'y_true']))\n",
    "    elif loso_res_df.loc[ind, 'data'] == 'both':\n",
    "        y_true_both += eval(loso_res_df.loc[ind, 'y_true'])\n",
    "        y_pred_both += eval(loso_res_df.loc[ind, 'y_pred'])\n",
    "        study_id_both += [loso_res_df.loc[ind, 'fold']] \\\n",
    "            * len(eval(loso_res_df.loc[ind, 'y_true']))\n",
    "        target_both += [loso_res_df.loc[ind, 'target']] \\\n",
    "            * len(eval(loso_res_df.loc[ind, 'y_true']))\n",
    "        model_type_both += [loso_res_df.loc[ind, 'model_type']] \\\n",
    "            * len(eval(loso_res_df.loc[ind, 'y_true']))\n",
    "        params_both += [loso_res_df.loc[ind, 'params']] \\\n",
    "            * len(eval(loso_res_df.loc[ind, 'y_true']))"
   ]
  },
  {
   "cell_type": "code",
   "execution_count": 320,
   "metadata": {},
   "outputs": [],
   "source": [
    "df_overall_err_cc = pd.DataFrame({\n",
    "    'study_id': study_id_cc,\n",
    "    'y_true': y_true_cc,\n",
    "    'y_pred_cc': y_pred_cc,\n",
    "    'target': target_cc,\n",
    "    'model_type': model_type_cc,\n",
    "    'params': params_cc\n",
    "})\n",
    "\n",
    "df_overall_err_sl = pd.DataFrame({\n",
    "    'study_id': study_id_sl,\n",
    "    'y_true': y_true_sl,\n",
    "    'y_pred_sl': y_pred_sl,\n",
    "    'target': target_sl,\n",
    "    'model_type': model_type_sl,\n",
    "    'params': params_sl\n",
    "})\n",
    "\n",
    "df_overall_err_both = pd.DataFrame({\n",
    "    'study_id': study_id_both,\n",
    "    'y_true': y_true_both,\n",
    "    'y_pred_both': y_pred_both,\n",
    "    'target': target_both,\n",
    "    'model_type': model_type_both,\n",
    "    'params': params_both\n",
    "})\n",
    "\n",
    "df_overall_err = pd.concat(\n",
    "    [df_overall_err_cc, df_overall_err_sl[['y_pred_sl']], df_overall_err_both[['y_pred_both']]], axis=1)\n",
    "df_overall_err['cc_err'] = (df_overall_err['y_true'] - df_overall_err['y_pred_cc'])**2\n",
    "df_overall_err['sl_err'] = (df_overall_err['y_true'] - df_overall_err['y_pred_sl'])**2\n",
    "df_overall_err['both_err'] = (df_overall_err['y_true'] - df_overall_err['y_pred_both'])**2"
   ]
  },
  {
   "cell_type": "code",
   "execution_count": 321,
   "metadata": {},
   "outputs": [],
   "source": [
    "target_list = []\n",
    "model_type_list = []\n",
    "params_list = []\n",
    "r2_list = []\n",
    "mae_list = []\n",
    "data_list = []\n",
    "\n",
    "for t in df_overall_err.target.unique():\n",
    "    for m in df_overall_err.model_type.unique():\n",
    "        for p in df_overall_err.params.unique():\n",
    "            temp = df_overall_err.loc[\n",
    "                (df_overall_err.target == t) & (df_overall_err.model_type == m) &\n",
    "                (df_overall_err.params == p), :\n",
    "            ]\n",
    "            if temp.shape[0] > 0:\n",
    "                target_list += [t, t, t]\n",
    "                model_type_list += [m, m, m]\n",
    "                params_list += [p, p, p]\n",
    "                data_list += ['sl', 'cc', 'both']\n",
    "                r2_list += [\n",
    "                    r2_score(temp['y_true'], temp['y_pred_sl']), \n",
    "                    r2_score(temp['y_true'], temp['y_pred_cc']),\n",
    "                    r2_score(temp['y_true'], temp['y_pred_both'])\n",
    "                ]\n",
    "                mae_list += [\n",
    "                    mean_absolute_error(temp['y_true'], temp['y_pred_sl']), \n",
    "                    mean_absolute_error(temp['y_true'], temp['y_pred_cc']),\n",
    "                    mean_absolute_error(temp['y_true'], temp['y_pred_both'])\n",
    "                ]\n",
    "\n",
    "overall_res_df = pd.DataFrame({\n",
    "    'target': target_list,\n",
    "    'model_type': model_type_list,\n",
    "    'params': params_list,\n",
    "    'data': data_list,\n",
    "    'r2': r2_list,\n",
    "    'mae': mae_list,\n",
    "})            "
   ]
  },
  {
   "cell_type": "code",
   "execution_count": 322,
   "metadata": {},
   "outputs": [],
   "source": [
    "overall_res_df_max = overall_res_df.loc[\n",
    "    overall_res_df.groupby(['target', 'data'])['r2'].idxmax(), :\n",
    "]"
   ]
  },
  {
   "cell_type": "code",
   "execution_count": 323,
   "metadata": {},
   "outputs": [],
   "source": [
    "df_overall_err_best_sleep_both = pd.merge(\n",
    "    left=df_overall_err, right=overall_res_df.iloc[[0], :]\n",
    ")\n",
    "\n",
    "df_overall_err_best_sleep_cc = pd.merge(\n",
    "    left=df_overall_err, right=overall_res_df.iloc[[1], :]\n",
    ")\n",
    "\n",
    "df_overall_err_best_sleep_sl = pd.merge(\n",
    "    left=df_overall_err, right=overall_res_df.iloc[[2], :]\n",
    ")\n",
    "\n",
    "df_overall_err_best_sleep = pd.concat([\n",
    "    df_overall_err_best_sleep_both[['both_err']],\n",
    "    df_overall_err_best_sleep_cc[['cc_err']],\n",
    "    df_overall_err_best_sleep_sl[['sl_err']]\n",
    "], axis=1)\n",
    "\n",
    "test_sleep_res_overall_cc = util.paired_test(df_overall_err_best_sleep, 'sl_err', 'cc_err')[0]\n",
    "test_sleep_res_overall_both = util.paired_test(df_overall_err_best_sleep, 'sl_err', 'both_err')[0]"
   ]
  },
  {
   "cell_type": "code",
   "execution_count": 324,
   "metadata": {},
   "outputs": [],
   "source": [
    "df_overall_err_best_stress_both = pd.merge(\n",
    "    left=df_overall_err, right=overall_res_df.iloc[[3], :]\n",
    ")\n",
    "\n",
    "df_overall_err_best_stress_cc = pd.merge(\n",
    "    left=df_overall_err, right=overall_res_df.iloc[[4], :]\n",
    ")\n",
    "\n",
    "df_overall_err_best_stress_sl = pd.merge(\n",
    "    left=df_overall_err, right=overall_res_df.iloc[[5], :]\n",
    ")\n",
    "\n",
    "df_overall_err_best_stress = pd.concat([\n",
    "    df_overall_err_best_stress_both[['both_err']],\n",
    "    df_overall_err_best_stress_cc[['cc_err']],\n",
    "    df_overall_err_best_stress_sl[['sl_err']]\n",
    "], axis=1)\n",
    "\n",
    "test_stress_res_overall_cc = util.paired_test(df_overall_err_best_stress, 'sl_err', 'cc_err')[0]\n",
    "test_stress_res_overall_both = util.paired_test(df_overall_err_best_stress, 'sl_err', 'both_err')[0]"
   ]
  },
  {
   "cell_type": "code",
   "execution_count": 325,
   "metadata": {},
   "outputs": [],
   "source": [
    "test_sleep_res_overall_cc['target'] = ['ema_SLEEPING']\n",
    "test_sleep_res_overall_cc['data'] = ['cc']\n",
    "test_sleep_res_overall_both['target'] = ['ema_SLEEPING']\n",
    "test_sleep_res_overall_both['data'] = ['both']\n",
    "test_stress_res_overall_cc['target'] = ['ema_STRESSED']\n",
    "test_stress_res_overall_cc['data'] = ['cc']\n",
    "test_stress_res_overall_both['target'] = ['ema_STRESSED']\n",
    "test_stress_res_overall_both['data'] = ['both']\n",
    "\n",
    "test_res_overall = pd.concat([\n",
    "    test_sleep_res_overall_cc, test_sleep_res_overall_both, \n",
    "    test_stress_res_overall_cc, test_stress_res_overall_both\n",
    "])\n",
    "\n",
    "test_res_overall = pd.merge(\n",
    "    left=test_res_overall,\n",
    "    right=overall_res_df_max[['target', 'data', 'r2', 'mae']],\n",
    "    on=['target', 'data'],\n",
    "    how='outer'\n",
    ")"
   ]
  },
  {
   "cell_type": "code",
   "execution_count": 364,
   "metadata": {},
   "outputs": [],
   "source": [
    "test_res_overall['Training Data'] = test_res_overall['data'].map({\n",
    "    'cc': 'Source',\n",
    "    'sl': 'Target',\n",
    "    'both': 'Source + Target'\n",
    "})\n",
    "\n",
    "test_res_overall['EMA'] = test_res_overall['target'].map({\n",
    "    'ema_SLEEPING': 'Sleep',\n",
    "    'ema_STRESSED': 'Stress'\n",
    "})\n",
    "\n",
    "test_res_overall_pivot = pd.pivot_table(\n",
    "    data=test_res_overall,\n",
    "    index=['EMA'],\n",
    "    columns=['Training Data'],\n",
    "    values=['r2', 'mae', 'W-val', 'p-val', 'RBC']\n",
    ")\n",
    "\n",
    "test_res_overall_pivot = test_res_overall_pivot[[\n",
    "    ('r2', 'Target'), ('r2', 'Source'), ('mae', 'Target'), ('mae', 'Source'), \n",
    "    ('W-val', 'Source'), ('p-val', 'Source'), ('RBC', 'Source'),\n",
    "    ('r2', 'Source + Target'), ('mae', 'Source + Target'),\n",
    "    ('W-val', 'Source + Target'), ('p-val', 'Source + Target'), ('RBC', 'Source + Target'),\n",
    "    \n",
    "]]\n",
    "\n",
    "test_res_overall_pivot.round(2).to_clipboard(excel=True, sep='\\t')"
   ]
  },
  {
   "cell_type": "code",
   "execution_count": 1162,
   "metadata": {},
   "outputs": [
    {
     "name": "stdout",
     "output_type": "stream",
     "text": [
      "ShapiroResult(statistic=0.6711632013320923, pvalue=2.195865324322281e-32)\n"
     ]
    }
   ],
   "source": [
    "print(util.paired_test(df_overall_err_best_sleep, 'sl_err', 'cc_err')[1])"
   ]
  },
  {
   "cell_type": "code",
   "execution_count": 1163,
   "metadata": {},
   "outputs": [
    {
     "name": "stdout",
     "output_type": "stream",
     "text": [
      "ShapiroResult(statistic=0.6429898738861084, pvalue=2.0230786750109438e-33)\n"
     ]
    }
   ],
   "source": [
    "print(util.paired_test(df_overall_err_best_sleep, 'sl_err', 'both_err')[1])"
   ]
  },
  {
   "cell_type": "code",
   "execution_count": 1164,
   "metadata": {},
   "outputs": [
    {
     "name": "stdout",
     "output_type": "stream",
     "text": [
      "ShapiroResult(statistic=0.9131038188934326, pvalue=2.4868180431569797e-12)\n"
     ]
    }
   ],
   "source": [
    "print(util.paired_test(df_overall_err_best_stress, 'sl_err', 'cc_err')[1])"
   ]
  },
  {
   "cell_type": "code",
   "execution_count": 1165,
   "metadata": {},
   "outputs": [
    {
     "name": "stdout",
     "output_type": "stream",
     "text": [
      "ShapiroResult(statistic=0.9537782669067383, pvalue=2.932135423350246e-08)\n"
     ]
    }
   ],
   "source": [
    "print(util.paired_test(df_overall_err_best_stress, 'sl_err', 'both_err')[1])"
   ]
  },
  {
   "cell_type": "code",
   "execution_count": 365,
   "metadata": {},
   "outputs": [
    {
     "data": {
      "text/html": [
       "<div>\n",
       "<style scoped>\n",
       "    .dataframe tbody tr th:only-of-type {\n",
       "        vertical-align: middle;\n",
       "    }\n",
       "\n",
       "    .dataframe tbody tr th {\n",
       "        vertical-align: top;\n",
       "    }\n",
       "\n",
       "    .dataframe thead tr th {\n",
       "        text-align: left;\n",
       "    }\n",
       "\n",
       "    .dataframe thead tr:last-of-type th {\n",
       "        text-align: right;\n",
       "    }\n",
       "</style>\n",
       "<table border=\"1\" class=\"dataframe\">\n",
       "  <thead>\n",
       "    <tr>\n",
       "      <th></th>\n",
       "      <th colspan=\"2\" halign=\"left\">r2</th>\n",
       "      <th colspan=\"2\" halign=\"left\">mae</th>\n",
       "      <th>W-val</th>\n",
       "      <th>p-val</th>\n",
       "      <th>RBC</th>\n",
       "      <th>r2</th>\n",
       "      <th>mae</th>\n",
       "      <th>W-val</th>\n",
       "      <th>p-val</th>\n",
       "      <th>RBC</th>\n",
       "    </tr>\n",
       "    <tr>\n",
       "      <th>Training Data</th>\n",
       "      <th>Target</th>\n",
       "      <th>Source</th>\n",
       "      <th>Target</th>\n",
       "      <th>Source</th>\n",
       "      <th>Source</th>\n",
       "      <th>Source</th>\n",
       "      <th>Source</th>\n",
       "      <th>Source + Target</th>\n",
       "      <th>Source + Target</th>\n",
       "      <th>Source + Target</th>\n",
       "      <th>Source + Target</th>\n",
       "      <th>Source + Target</th>\n",
       "    </tr>\n",
       "    <tr>\n",
       "      <th>EMA</th>\n",
       "      <th></th>\n",
       "      <th></th>\n",
       "      <th></th>\n",
       "      <th></th>\n",
       "      <th></th>\n",
       "      <th></th>\n",
       "      <th></th>\n",
       "      <th></th>\n",
       "      <th></th>\n",
       "      <th></th>\n",
       "      <th></th>\n",
       "      <th></th>\n",
       "    </tr>\n",
       "  </thead>\n",
       "  <tbody>\n",
       "    <tr>\n",
       "      <th>Sleep</th>\n",
       "      <td>-0.007897</td>\n",
       "      <td>-0.004585</td>\n",
       "      <td>0.656596</td>\n",
       "      <td>0.660054</td>\n",
       "      <td>96087.0</td>\n",
       "      <td>0.052493</td>\n",
       "      <td>0.076587</td>\n",
       "      <td>-0.007019</td>\n",
       "      <td>0.660339</td>\n",
       "      <td>96579.0</td>\n",
       "      <td>0.041119</td>\n",
       "      <td>0.082099</td>\n",
       "    </tr>\n",
       "    <tr>\n",
       "      <th>Stress</th>\n",
       "      <td>-0.021449</td>\n",
       "      <td>-1.953651</td>\n",
       "      <td>0.570344</td>\n",
       "      <td>1.053590</td>\n",
       "      <td>7179.0</td>\n",
       "      <td>1.000000</td>\n",
       "      <td>-0.696307</td>\n",
       "      <td>-0.836885</td>\n",
       "      <td>0.795267</td>\n",
       "      <td>8606.0</td>\n",
       "      <td>1.000000</td>\n",
       "      <td>-0.635941</td>\n",
       "    </tr>\n",
       "  </tbody>\n",
       "</table>\n",
       "</div>"
      ],
      "text/plain": [
       "                     r2                 mae              W-val     p-val  \\\n",
       "Training Data    Target    Source    Target    Source   Source    Source   \n",
       "EMA                                                                        \n",
       "Sleep         -0.007897 -0.004585  0.656596  0.660054  96087.0  0.052493   \n",
       "Stress        -0.021449 -1.953651  0.570344  1.053590   7179.0  1.000000   \n",
       "\n",
       "                    RBC              r2             mae           W-val  \\\n",
       "Training Data    Source Source + Target Source + Target Source + Target   \n",
       "EMA                                                                       \n",
       "Sleep          0.076587       -0.007019        0.660339         96579.0   \n",
       "Stress        -0.696307       -0.836885        0.795267          8606.0   \n",
       "\n",
       "                        p-val             RBC  \n",
       "Training Data Source + Target Source + Target  \n",
       "EMA                                            \n",
       "Sleep                0.041119        0.082099  \n",
       "Stress               1.000000       -0.635941  "
      ]
     },
     "execution_count": 365,
     "metadata": {},
     "output_type": "execute_result"
    }
   ],
   "source": [
    "test_res_overall_pivot"
   ]
  },
  {
   "cell_type": "markdown",
   "metadata": {},
   "source": [
    "## Lasso alpha=0.1"
   ]
  },
  {
   "cell_type": "code",
   "execution_count": 1189,
   "metadata": {},
   "outputs": [
    {
     "name": "stdout",
     "output_type": "stream",
     "text": [
      "lasso {'alpha': 0.1}\n",
      "lasso {'alpha': 0.1}\n"
     ]
    }
   ],
   "source": [
    "args = []\n",
    "\n",
    "for target in targets:\n",
    "    for model_type in ['lasso']:\n",
    "        for params in regression_cv.get_param_combinations({'alpha': [0.1]}):\n",
    "            print(model_type, params)\n",
    "            for s in studentlife_temp.study_id.unique():\n",
    "                # Go through each study ID\n",
    "                val = studentlife_temp.loc[studentlife_temp.study_id == s, \n",
    "                                               features + [target, 'study_id', 'day', 'data']]\n",
    "                if val.dropna().shape[0] < 30:\n",
    "                    continue\n",
    "                sl_wo_s = studentlife_temp.loc[\n",
    "                    studentlife_temp.study_id != s, \n",
    "                        features + [target, 'study_id', 'day', 'data']\n",
    "                ].dropna()\n",
    "                for data in ['sl', 'cc']:\n",
    "                    if data == 'sl':\n",
    "                        d2 = sl_wo_s.copy()\n",
    "                    else:\n",
    "                        d2 = crosscheck_temp.copy()\n",
    "                    for c in list(d2.study_id.unique()):\n",
    "                        train_data = d2.loc[d2.study_id == c, :]\n",
    "                            \n",
    "                        if train_data.shape[0] < 30:\n",
    "                            continue\n",
    "\n",
    "                        # Get train data \n",
    "                        model = regression_cv.get_model(model_type=model_type, params=params)\n",
    "                        args.append([model, train_data, model_type, features, target, val, False])"
   ]
  },
  {
   "cell_type": "code",
   "execution_count": 1190,
   "metadata": {},
   "outputs": [],
   "source": [
    "pool = Pool(cpu_count())\n",
    "output = pool.map(regression_cv.train_validate_model, args)\n",
    "pool.close()"
   ]
  },
  {
   "cell_type": "code",
   "execution_count": 1191,
   "metadata": {},
   "outputs": [
    {
     "name": "stdout",
     "output_type": "stream",
     "text": [
      "lasso {'alpha': 0.1}\n",
      "lasso {'alpha': 0.1}\n"
     ]
    }
   ],
   "source": [
    "study_id_list = []\n",
    "data_list = []\n",
    "cc_id_list = []\n",
    "target_list = []\n",
    "model_type_list = []\n",
    "params_list = []\n",
    "r2_list = []\n",
    "mae_list = []\n",
    "pearson_corr_list = []\n",
    "pearson_p_list = []\n",
    "skipped_corr_list = []\n",
    "skipped_p_list = []\n",
    "y_true_list = []\n",
    "y_pred_list = []\n",
    "coef_list = []\n",
    "\n",
    "curr = 0\n",
    "for target in targets:\n",
    "    for model_type in ['lasso']:\n",
    "        for params in regression_cv.get_param_combinations({'alpha': [0.1]}):\n",
    "            print(model_type, params)\n",
    "            for s in studentlife_temp.study_id.unique():\n",
    "                # Go through each study ID\n",
    "                val = studentlife_temp.loc[studentlife_temp.study_id == s, \n",
    "                                               features + [target, 'study_id', 'day', 'data']]\n",
    "                if val.dropna().shape[0] < 30:\n",
    "                    continue\n",
    "                sl_wo_s = studentlife_temp.loc[\n",
    "                    studentlife_temp.study_id != s, \n",
    "                        features + [target, 'study_id', 'day', 'data']\n",
    "                ].dropna()\n",
    "                for data in ['sl', 'cc']:\n",
    "                    if data == 'sl':\n",
    "                        d2 = sl_wo_s.copy()\n",
    "                    else:\n",
    "                        d2 = crosscheck_temp.copy()\n",
    "                    for c in list(d2.study_id.unique()):\n",
    "                        train_data = d2.loc[d2.study_id == c, :]\n",
    "                            \n",
    "                        if train_data.shape[0] < 30:\n",
    "                            continue\n",
    "\n",
    "                        model, r2, mae, pearson_corr, pearson_p, skipped_corr, skipped_p, y_true, y_pred, _ = \\\n",
    "                            output[curr]\n",
    "\n",
    "                        coef_list.append(list(model.coef_))\n",
    "                        pearson_corr_list.append(pearson_corr)\n",
    "                        pearson_p_list.append(pearson_p)\n",
    "                        skipped_corr_list.append(skipped_corr)\n",
    "                        skipped_p_list.append(skipped_p)\n",
    "                        y_true_list.append(str(list(y_true)))\n",
    "                        y_pred_list.append(str(list(y_pred)))\n",
    "\n",
    "                        study_id_list.append(s)\n",
    "                        data_list.append(data)\n",
    "                        cc_id_list.append(c)\n",
    "                        target_list.append(target)\n",
    "                        model_type_list.append(model_type)\n",
    "                        params_list.append(str(params))\n",
    "                        r2_list.append(r2)\n",
    "                        mae_list.append(mae)\n",
    "\n",
    "                        curr += 1"
   ]
  },
  {
   "cell_type": "code",
   "execution_count": 1192,
   "metadata": {},
   "outputs": [],
   "source": [
    "individual_lasso_res_df = pd.DataFrame({\n",
    "    'study_id': study_id_list,\n",
    "    'data': data_list,\n",
    "    'cc_id': cc_id_list,\n",
    "    'target': target_list,\n",
    "    'model_type': model_type_list,\n",
    "    'params': params_list,\n",
    "    'r2': r2_list,\n",
    "    'mae': mae_list,\n",
    "    'pearson_corr': pearson_corr_list,\n",
    "    'pearson_p': pearson_p_list,\n",
    "    'skipped_corr': skipped_corr_list,\n",
    "    'skipped_p': skipped_p_list,\n",
    "    'y_true': y_true_list,\n",
    "    'y_pred': y_pred_list\n",
    "})"
   ]
  },
  {
   "cell_type": "code",
   "execution_count": 1193,
   "metadata": {},
   "outputs": [],
   "source": [
    "individual_lasso_res_df[features] = coef_list"
   ]
  },
  {
   "cell_type": "code",
   "execution_count": 1285,
   "metadata": {},
   "outputs": [],
   "source": [
    "individual_lasso_res_df_max =  individual_lasso_res_df.loc[individual_lasso_res_df.groupby(\n",
    "    ['target', 'study_id', 'data'])['r2'].idxmax(), :]"
   ]
  },
  {
   "cell_type": "code",
   "execution_count": 1286,
   "metadata": {},
   "outputs": [],
   "source": [
    "individual_lasso_res_df_max_both = individual_lasso_res_df.loc[individual_lasso_res_df.groupby(\n",
    "    ['target', 'study_id'])['r2'].idxmax(), :]"
   ]
  },
  {
   "cell_type": "code",
   "execution_count": 1287,
   "metadata": {},
   "outputs": [],
   "source": [
    "y_true_cc = []\n",
    "y_pred_cc = []\n",
    "study_id_cc = []\n",
    "target_cc = []\n",
    "\n",
    "y_true_sl = []\n",
    "y_pred_sl = []\n",
    "study_id_sl = []\n",
    "target_sl = []\n",
    "\n",
    "y_true_both = []\n",
    "y_pred_both = []\n",
    "study_id_both = []\n",
    "target_both = []\n",
    "\n",
    "\n",
    "for ind in individual_lasso_res_df_max.index:\n",
    "    if individual_lasso_res_df_max.loc[ind, 'data'] == 'cc':\n",
    "        y_true_cc += eval(individual_lasso_res_df_max.loc[ind, 'y_true'])\n",
    "        y_pred_cc += eval(individual_lasso_res_df_max.loc[ind, 'y_pred'])\n",
    "        study_id_cc += [individual_lasso_res_df_max.loc[ind, 'study_id']] \\\n",
    "            * len(eval(individual_lasso_res_df_max.loc[ind, 'y_true']))\n",
    "        target_cc += [individual_lasso_res_df_max.loc[ind, 'target']] \\\n",
    "            * len(eval(individual_lasso_res_df_max.loc[ind, 'y_true']))\n",
    "    else:\n",
    "        y_true_sl += eval(individual_lasso_res_df_max.loc[ind, 'y_true'])\n",
    "        y_pred_sl += eval(individual_lasso_res_df_max.loc[ind, 'y_pred'])\n",
    "        study_id_sl += [individual_lasso_res_df_max.loc[ind, 'study_id']] \\\n",
    "            * len(eval(individual_lasso_res_df_max.loc[ind, 'y_true']))\n",
    "        target_sl += [individual_lasso_res_df_max.loc[ind, 'target']] \\\n",
    "            * len(eval(individual_lasso_res_df_max.loc[ind, 'y_true']))\n",
    "        \n",
    "for ind in individual_lasso_res_df_max_both.index:\n",
    "    y_true_both += eval(individual_lasso_res_df_max_both.loc[ind, 'y_true'])\n",
    "    y_pred_both += eval(individual_lasso_res_df_max_both.loc[ind, 'y_pred'])\n",
    "    study_id_both += [individual_lasso_res_df_max_both.loc[ind, 'study_id']] \\\n",
    "        * len(eval(individual_lasso_res_df_max_both.loc[ind, 'y_true']))\n",
    "    target_both += [individual_lasso_res_df_max_both.loc[ind, 'target']] \\\n",
    "        * len(eval(individual_lasso_res_df_max_both.loc[ind, 'y_true']))"
   ]
  },
  {
   "cell_type": "code",
   "execution_count": 1288,
   "metadata": {},
   "outputs": [],
   "source": [
    "df_err_cc = pd.DataFrame({\n",
    "    'study_id': study_id_cc,\n",
    "    'y_true': y_true_cc,\n",
    "    'y_pred_cc': y_pred_cc,\n",
    "    'target': target_cc\n",
    "})\n",
    "\n",
    "df_err_sl = pd.DataFrame({\n",
    "    'study_id': study_id_sl,\n",
    "    'y_true': y_true_sl,\n",
    "    'y_pred_sl': y_pred_sl,\n",
    "    'target_sl': target_sl\n",
    "})\n",
    "\n",
    "df_err_both = pd.DataFrame({\n",
    "    'study_id': study_id_both,\n",
    "    'y_true': y_true_both,\n",
    "    'y_pred_both': y_pred_both,\n",
    "    'target_both': target_both\n",
    "})\n",
    "\n",
    "df_err = pd.concat([df_err_cc, df_err_sl[['y_pred_sl']], df_err_both[['y_pred_both']]], axis=1)\n",
    "df_err['cc_err'] = (df_err['y_true'] - df_err['y_pred_cc'])**2\n",
    "df_err['sl_err'] = (df_err['y_true'] - df_err['y_pred_sl'])**2\n",
    "df_err['both_err'] = (df_err['y_true'] - df_err['y_pred_both'])**2"
   ]
  },
  {
   "cell_type": "code",
   "execution_count": 1289,
   "metadata": {},
   "outputs": [
    {
     "data": {
      "text/plain": [
       "<module 'util' from '../code/util.py'>"
      ]
     },
     "execution_count": 1289,
     "metadata": {},
     "output_type": "execute_result"
    }
   ],
   "source": [
    "reload(util)"
   ]
  },
  {
   "cell_type": "code",
   "execution_count": 1290,
   "metadata": {},
   "outputs": [],
   "source": [
    "df_err_sleep = df_err.loc[df_err.target == 'ema_SLEEPING', :]\n",
    "df_err_stress = df_err.loc[df_err.target != 'ema_SLEEPING', :]\n",
    "\n",
    "# SLEEP\n",
    "test_sleep_res_cc = util.paired_test(df_err_sleep, 'sl_err', 'cc_err')[0]\n",
    "test_sleep_res_cc['r2'] = [r2_score(df_err_sleep['y_true'], df_err_sleep['y_pred_cc'])]\n",
    "test_sleep_res_cc['mae'] = [mean_absolute_error(df_err_sleep['y_true'], df_err_sleep['y_pred_cc'])]\n",
    "test_sleep_res_cc['data'] = ['cc']\n",
    "test_sleep_res_cc['target'] = ['ema_SLEEPING']\n",
    "\n",
    "test_sleep_res_both = util.paired_test(df_err_sleep, 'sl_err', 'both_err')[0]\n",
    "test_sleep_res_both['r2'] = [r2_score(df_err_sleep['y_true'], df_err_sleep['y_pred_both'])]\n",
    "test_sleep_res_both['mae'] = [mean_absolute_error(df_err_sleep['y_true'], df_err_sleep['y_pred_both'])]\n",
    "test_sleep_res_both['data'] = ['both']\n",
    "test_sleep_res_both['target'] = ['ema_SLEEPING']\n",
    "\n",
    "test_sleep_res_sl = test_sleep_res_both.copy()\n",
    "test_sleep_res_sl[['W-val', 'tail', 'p-val', 'RBC', 'CLES']] = None\n",
    "test_sleep_res_sl['r2'] = [r2_score(df_err_sleep['y_true'], df_err_sleep['y_pred_sl'])]\n",
    "test_sleep_res_sl['mae'] = [mean_absolute_error(df_err_sleep['y_true'], df_err_sleep['y_pred_sl'])]\n",
    "test_sleep_res_sl['data'] = ['sl']\n",
    "test_sleep_res_sl['target'] = ['ema_SLEEPING']\n",
    "\n",
    "# STRESS\n",
    "test_stress_res_cc = util.paired_test(df_err_stress, 'sl_err', 'cc_err')[0]\n",
    "test_stress_res_cc['r2'] = [r2_score(df_err_stress['y_true'], df_err_stress['y_pred_cc'])]\n",
    "test_stress_res_cc['mae'] = [mean_absolute_error(df_err_stress['y_true'], df_err_stress['y_pred_cc'])]\n",
    "test_stress_res_cc['data'] = ['cc']\n",
    "test_stress_res_cc['target'] = ['ema_STRESSED']\n",
    "\n",
    "test_stress_res_both = util.paired_test(df_err_stress, 'sl_err', 'both_err')[0]\n",
    "test_stress_res_both['r2'] = [r2_score(df_err_stress['y_true'], df_err_stress['y_pred_both'])]\n",
    "test_stress_res_both['mae'] = [mean_absolute_error(df_err_stress['y_true'], df_err_stress['y_pred_both'])]\n",
    "test_stress_res_both['data'] = ['both']\n",
    "test_stress_res_both['target'] = ['ema_STRESSED']\n",
    "\n",
    "\n",
    "test_stress_res_sl = test_stress_res_both.copy()\n",
    "test_stress_res_sl[['W-val', 'tail', 'p-val', 'RBC', 'CLES']] = None\n",
    "test_stress_res_sl['r2'] = [r2_score(df_err_stress['y_true'], df_err_stress['y_pred_sl'])]\n",
    "test_stress_res_sl['mae'] = [mean_absolute_error(df_err_stress['y_true'], df_err_stress['y_pred_sl'])]\n",
    "test_stress_res_sl['data'] = ['sl']\n",
    "test_stress_res_sl['target'] = ['ema_STRESSED']"
   ]
  },
  {
   "cell_type": "code",
   "execution_count": 1291,
   "metadata": {},
   "outputs": [],
   "source": [
    "test_res_individual = pd.concat([\n",
    "    test_sleep_res_cc, test_sleep_res_both, test_sleep_res_sl,\n",
    "    test_stress_res_cc, test_stress_res_both, test_stress_res_sl\n",
    "]).reset_index(drop=True)\n",
    "\n",
    "test_res_individual[['W-val', 'p-val', 'RBC']] = test_res_individual[['W-val', 'p-val', 'RBC']].astype(float)"
   ]
  },
  {
   "cell_type": "code",
   "execution_count": 1292,
   "metadata": {},
   "outputs": [],
   "source": [
    "test_res_individual['Training Data'] = test_res_individual['data'].map({\n",
    "    'cc': 'Source',\n",
    "    'sl': 'Target',\n",
    "    'both': 'Source + Target'\n",
    "})\n",
    "\n",
    "test_res_individual['EMA'] = test_res_individual['target'].map({\n",
    "    'ema_SLEEPING': 'Sleep',\n",
    "    'ema_STRESSED': 'Stress'\n",
    "})\n",
    "\n",
    "test_res_individual_pivot = pd.pivot_table(\n",
    "    data=test_res_individual,\n",
    "    index=['EMA'],\n",
    "    columns=['Training Data'],\n",
    "    values=['r2', 'mae', 'W-val', 'p-val', 'RBC']\n",
    ")\n",
    "\n",
    "test_res_individual_pivot = test_res_individual_pivot[[\n",
    "    ('r2', 'Target'), ('r2', 'Source'), ('mae', 'Target'), ('mae', 'Source'), \n",
    "    ('W-val', 'Source'), ('p-val', 'Source'), ('RBC', 'Source'),\n",
    "    ('r2', 'Source + Target'), ('mae', 'Source + Target'),\n",
    "    ('W-val', 'Source + Target'), ('p-val', 'Source + Target'), ('RBC', 'Source + Target'),\n",
    "    \n",
    "]]\n",
    "\n",
    "test_res_individual_pivot.round(2).to_clipboard(excel=True, sep='\\t')"
   ]
  },
  {
   "cell_type": "code",
   "execution_count": 1293,
   "metadata": {},
   "outputs": [
    {
     "name": "stdout",
     "output_type": "stream",
     "text": [
      "ShapiroResult(statistic=0.882167637348175, pvalue=6.796237081770717e-21)\n"
     ]
    }
   ],
   "source": [
    "print(util.paired_test(df_err_sleep, 'sl_err', 'cc_err')[1])"
   ]
  },
  {
   "cell_type": "code",
   "execution_count": 1294,
   "metadata": {},
   "outputs": [
    {
     "name": "stdout",
     "output_type": "stream",
     "text": [
      "ShapiroResult(statistic=0.8429273962974548, pvalue=7.625872616839018e-24)\n"
     ]
    }
   ],
   "source": [
    "print(util.paired_test(df_err_sleep, 'sl_err', 'both_err')[1])"
   ]
  },
  {
   "cell_type": "code",
   "execution_count": 1295,
   "metadata": {},
   "outputs": [
    {
     "name": "stdout",
     "output_type": "stream",
     "text": [
      "ShapiroResult(statistic=0.7376714944839478, pvalue=1.02215774580686e-21)\n"
     ]
    }
   ],
   "source": [
    "print(util.paired_test(df_err_stress, 'sl_err', 'both_err')[1])"
   ]
  },
  {
   "cell_type": "code",
   "execution_count": 1296,
   "metadata": {},
   "outputs": [
    {
     "name": "stdout",
     "output_type": "stream",
     "text": [
      "ShapiroResult(statistic=0.7376714944839478, pvalue=1.02215774580686e-21)\n"
     ]
    }
   ],
   "source": [
    "print(util.paired_test(df_err_stress, 'sl_err', 'both_err')[1])"
   ]
  },
  {
   "cell_type": "code",
   "execution_count": 1297,
   "metadata": {},
   "outputs": [
    {
     "data": {
      "text/html": [
       "<div>\n",
       "<style scoped>\n",
       "    .dataframe tbody tr th:only-of-type {\n",
       "        vertical-align: middle;\n",
       "    }\n",
       "\n",
       "    .dataframe tbody tr th {\n",
       "        vertical-align: top;\n",
       "    }\n",
       "\n",
       "    .dataframe thead tr th {\n",
       "        text-align: left;\n",
       "    }\n",
       "\n",
       "    .dataframe thead tr:last-of-type th {\n",
       "        text-align: right;\n",
       "    }\n",
       "</style>\n",
       "<table border=\"1\" class=\"dataframe\">\n",
       "  <thead>\n",
       "    <tr>\n",
       "      <th></th>\n",
       "      <th colspan=\"2\" halign=\"left\">r2</th>\n",
       "      <th colspan=\"2\" halign=\"left\">mae</th>\n",
       "      <th>W-val</th>\n",
       "      <th>p-val</th>\n",
       "      <th>RBC</th>\n",
       "      <th>r2</th>\n",
       "      <th>mae</th>\n",
       "      <th>W-val</th>\n",
       "      <th>p-val</th>\n",
       "      <th>RBC</th>\n",
       "    </tr>\n",
       "    <tr>\n",
       "      <th>Training Data</th>\n",
       "      <th>Target</th>\n",
       "      <th>Source</th>\n",
       "      <th>Target</th>\n",
       "      <th>Source</th>\n",
       "      <th>Source</th>\n",
       "      <th>Source</th>\n",
       "      <th>Source</th>\n",
       "      <th>Source + Target</th>\n",
       "      <th>Source + Target</th>\n",
       "      <th>Source + Target</th>\n",
       "      <th>Source + Target</th>\n",
       "      <th>Source + Target</th>\n",
       "    </tr>\n",
       "    <tr>\n",
       "      <th>EMA</th>\n",
       "      <th></th>\n",
       "      <th></th>\n",
       "      <th></th>\n",
       "      <th></th>\n",
       "      <th></th>\n",
       "      <th></th>\n",
       "      <th></th>\n",
       "      <th></th>\n",
       "      <th></th>\n",
       "      <th></th>\n",
       "      <th></th>\n",
       "      <th></th>\n",
       "    </tr>\n",
       "  </thead>\n",
       "  <tbody>\n",
       "    <tr>\n",
       "      <th>Sleep</th>\n",
       "      <td>0.114907</td>\n",
       "      <td>0.183892</td>\n",
       "      <td>0.624696</td>\n",
       "      <td>0.566964</td>\n",
       "      <td>103373.0</td>\n",
       "      <td>0.000405</td>\n",
       "      <td>0.158221</td>\n",
       "      <td>0.192209</td>\n",
       "      <td>0.567980</td>\n",
       "      <td>72197.0</td>\n",
       "      <td>0.000088</td>\n",
       "      <td>0.195453</td>\n",
       "    </tr>\n",
       "    <tr>\n",
       "      <th>Stress</th>\n",
       "      <td>0.178603</td>\n",
       "      <td>0.215598</td>\n",
       "      <td>0.492426</td>\n",
       "      <td>0.483447</td>\n",
       "      <td>26096.0</td>\n",
       "      <td>0.057269</td>\n",
       "      <td>0.103938</td>\n",
       "      <td>0.223017</td>\n",
       "      <td>0.481823</td>\n",
       "      <td>16646.0</td>\n",
       "      <td>0.061681</td>\n",
       "      <td>0.113817</td>\n",
       "    </tr>\n",
       "  </tbody>\n",
       "</table>\n",
       "</div>"
      ],
      "text/plain": [
       "                     r2                 mae               W-val     p-val  \\\n",
       "Training Data    Target    Source    Target    Source    Source    Source   \n",
       "EMA                                                                         \n",
       "Sleep          0.114907  0.183892  0.624696  0.566964  103373.0  0.000405   \n",
       "Stress         0.178603  0.215598  0.492426  0.483447   26096.0  0.057269   \n",
       "\n",
       "                    RBC              r2             mae           W-val  \\\n",
       "Training Data    Source Source + Target Source + Target Source + Target   \n",
       "EMA                                                                       \n",
       "Sleep          0.158221        0.192209        0.567980         72197.0   \n",
       "Stress         0.103938        0.223017        0.481823         16646.0   \n",
       "\n",
       "                        p-val             RBC  \n",
       "Training Data Source + Target Source + Target  \n",
       "EMA                                            \n",
       "Sleep                0.000088        0.195453  \n",
       "Stress               0.061681        0.113817  "
      ]
     },
     "execution_count": 1297,
     "metadata": {},
     "output_type": "execute_result"
    }
   ],
   "source": [
    "test_res_individual_pivot"
   ]
  }
 ],
 "metadata": {
  "kernelspec": {
   "display_name": "Python 3",
   "language": "python",
   "name": "python3"
  },
  "language_info": {
   "codemirror_mode": {
    "name": "ipython",
    "version": 3
   },
   "file_extension": ".py",
   "mimetype": "text/x-python",
   "name": "python",
   "nbconvert_exporter": "python",
   "pygments_lexer": "ipython3",
   "version": "3.8.6"
  }
 },
 "nbformat": 4,
 "nbformat_minor": 2
}
